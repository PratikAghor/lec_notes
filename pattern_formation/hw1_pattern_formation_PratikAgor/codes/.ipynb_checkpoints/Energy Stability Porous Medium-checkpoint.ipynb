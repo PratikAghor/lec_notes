{
 "cells": [
  {
   "cell_type": "code",
   "execution_count": null,
   "metadata": {},
   "outputs": [],
   "source": [
    "# plot marginal curve for Lambda = 0 "
   ]
  },
  {
   "cell_type": "code",
   "execution_count": null,
   "metadata": {},
   "outputs": [],
   "source": [
    "f(m, k, Ra_T, Ra_S, tau) = 4*tau*(m^2*pi^2+k^2)^4 + 4*k^2*Ra_S*(m^2*pi^2+k^2)^2 - 4*tau*(k^2)*Ra_T*(m^2*pi^2+k^2)^2 - 2*(k^4)*Ra_T*Ra_S - (k^4)*(Ra_S^2 + Ra_T^2)\n"
   ]
  },
  {
   "cell_type": "code",
   "execution_count": null,
   "metadata": {},
   "outputs": [],
   "source": [
    "tau = 0\n",
    "Ra_S = 0\n",
    "m = 1\n",
    "\n",
    "# Ra_T parameter\n",
    "\n",
    "var(\"k Ra_T\")"
   ]
  },
  {
   "cell_type": "code",
   "execution_count": null,
   "metadata": {},
   "outputs": [],
   "source": [
    "# plot marginal curve for Lambda = 0 \n",
    "\n",
    "implicit_plot(f(1, k, Ra_T, 0, 0), (k, 0, 10), (Ra_T, 0, 100))\n"
   ]
  },
  {
   "cell_type": "code",
   "execution_count": null,
   "metadata": {},
   "outputs": [],
   "source": []
  },
  {
   "cell_type": "code",
   "execution_count": null,
   "metadata": {},
   "outputs": [],
   "source": []
  },
  {
   "cell_type": "code",
   "execution_count": null,
   "metadata": {},
   "outputs": [],
   "source": []
  }
 ],
 "metadata": {
  "kernelspec": {
   "display_name": "SageMath 8.1",
   "language": "",
   "name": "sagemath"
  },
  "language_info": {
   "codemirror_mode": {
    "name": "ipython",
    "version": 2
   },
   "file_extension": ".py",
   "mimetype": "text/x-python",
   "name": "python",
   "nbconvert_exporter": "python",
   "pygments_lexer": "ipython2",
   "version": "2.7.17"
  }
 },
 "nbformat": 4,
 "nbformat_minor": 4
}
